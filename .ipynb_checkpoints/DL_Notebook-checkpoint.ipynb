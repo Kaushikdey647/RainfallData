{
 "cells": [
  {
   "cell_type": "code",
   "execution_count": 1,
   "id": "amazing-madison",
   "metadata": {},
   "outputs": [],
   "source": [
    "import os\n",
    "import pandas as pd\n",
    "import numpy as np\n",
    "from keras.models import Sequential\n",
    "from keras.layers import Dense\n",
    "import matplotlib.pyplot as mpl"
   ]
  },
  {
   "cell_type": "code",
   "execution_count": 8,
   "id": "missing-dress",
   "metadata": {},
   "outputs": [
    {
     "name": "stdout",
     "output_type": "stream",
     "text": [
      "C:\\Users\\kayde\\OneDrive\\Desktop\\mannada\\RainfallData\n"
     ]
    }
   ],
   "source": [
    "cwd = os.getcwd()\n",
    "print(cwd)"
   ]
  },
  {
   "cell_type": "code",
   "execution_count": 30,
   "id": "sapphire-billy",
   "metadata": {},
   "outputs": [],
   "source": [
    "variables = [\n",
    "        'dswr',\n",
    "        'lftx',\n",
    "        'mslp',\n",
    "        'p__f',\n",
    "        'p__u',\n",
    "        'p__v',\n",
    "        'p__z',\n",
    "        'p_th',\n",
    "        'p_zh',\n",
    "        'p5_f',\n",
    "        'p5_u',\n",
    "        'p5_v',\n",
    "        'p5_z',\n",
    "        'p5th',\n",
    "        'p5zh',\n",
    "        'p8_f',\n",
    "        'p8_u',\n",
    "        'p8_v',\n",
    "        'p8_z',\n",
    "        'p8th',\n",
    "        'p8zh',\n",
    "        'p500',\n",
    "        'p850',\n",
    "        'pottmp',\n",
    "        'pr_wtr',\n",
    "        'prec',\n",
    "        'r500',\n",
    "        'r850',\n",
    "        'rhum',\n",
    "        'shum',\n",
    "        'temp',\n",
    "]\n",
    "boxes = []\n",
    "for i in range(3):\n",
    "    df_li = []\n",
    "    for var in variables:\n",
    "        path = os.path.join(cwd,\"DATA\\\\BOX_20N_8%.1fE\\\\ncep_%s.dat\"%(2.5*(1+i),var)) # Cleverly curated path for automation\n",
    "        with open(path) as file:\n",
    "            temp = file.read().splitlines()\n",
    "        df_li.append(temp)\n",
    "    boxes.append(\n",
    "        pd.DataFrame()\n",
    "    )"
   ]
  },
  {
   "cell_type": "code",
   "execution_count": 33,
   "id": "cubic-alias",
   "metadata": {},
   "outputs": [
    {
     "data": {
      "text/plain": [
       "30"
      ]
     },
     "execution_count": 33,
     "metadata": {},
     "output_type": "execute_result"
    }
   ],
   "source": [
    "len(df_li)"
   ]
  },
  {
   "cell_type": "code",
   "execution_count": null,
   "id": "understanding-corpus",
   "metadata": {},
   "outputs": [],
   "source": []
  }
 ],
 "metadata": {
  "kernelspec": {
   "display_name": "Python 3",
   "language": "python",
   "name": "python3"
  },
  "language_info": {
   "codemirror_mode": {
    "name": "ipython",
    "version": 3
   },
   "file_extension": ".py",
   "mimetype": "text/x-python",
   "name": "python",
   "nbconvert_exporter": "python",
   "pygments_lexer": "ipython3",
   "version": "3.8.8"
  }
 },
 "nbformat": 4,
 "nbformat_minor": 5
}
